{
 "cells": [
  {
   "cell_type": "code",
   "execution_count": 72,
   "id": "ancient-bridal",
   "metadata": {},
   "outputs": [],
   "source": [
    "import pandas as pd\n",
    "import numpy as np"
   ]
  },
  {
   "cell_type": "code",
   "execution_count": 73,
   "id": "gorgeous-restaurant",
   "metadata": {},
   "outputs": [],
   "source": [
    "df = pd.read_csv(\"./Downloads/adult_data.csv\")\n",
    "headers = [\"age\", \"workclass\", \"fnlwgt\", \"education\", \"education_num\", \"marital_status\", \"occupation\", \"relationship\",\n",
    "           \"race\", \"sex\", \"capital_gain\", \"capital_loss\", \"hours_per_week\", \"native_country\", \"salary_range\"]\n",
    "df.to_csv(\"./Downloads/adult_data.csv\", header = headers, index = False)\n",
    "df = pd.read_csv(\"./Downloads/adult_data.csv\")"
   ]
  },
  {
   "cell_type": "code",
   "execution_count": 74,
   "id": "sacred-courtesy",
   "metadata": {},
   "outputs": [],
   "source": [
    "married = [' Married_civ_spouse',' Married_spouse_absent', ' Married_AF_spouse', ' Separated']\n",
    "unmarried = [' Divorced',' Never_married', ' Widowed']\n",
    "\n",
    "df['marital_status'] = df['marital_status'].replace(married, 'married')\n",
    "df['marital_status'] = df['marital_status'].replace(unmarried, 'unmarried')\n",
    "df = df.replace(' ?', np.nan).dropna(axis=0, how='any', subset = headers)\n",
    "df.to_csv('~/adult_data_preprocessed.csv', index = False)\n"
   ]
  },
  {
   "cell_type": "code",
   "execution_count": null,
   "id": "possible-chart",
   "metadata": {},
   "outputs": [],
   "source": []
  },
  {
   "cell_type": "code",
   "execution_count": null,
   "id": "major-journey",
   "metadata": {},
   "outputs": [],
   "source": []
  }
 ],
 "metadata": {
  "kernelspec": {
   "display_name": "Python 3",
   "language": "python",
   "name": "python3"
  },
  "language_info": {
   "codemirror_mode": {
    "name": "ipython",
    "version": 3
   },
   "file_extension": ".py",
   "mimetype": "text/x-python",
   "name": "python",
   "nbconvert_exporter": "python",
   "pygments_lexer": "ipython3",
   "version": "3.8.5"
  }
 },
 "nbformat": 4,
 "nbformat_minor": 5
}
