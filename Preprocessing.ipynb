{
 "cells": [
  {
   "cell_type": "code",
   "execution_count": null,
   "id": "peaceful-bryan",
   "metadata": {},
   "outputs": [],
   "source": [
    "# This complete file (Extension Implementation) was coded by \n",
    "# Mohith Akhilesh and Pragyanta Dhal\n",
    "# mdhulipalla@umass.edu pdhal@umass.edu \n",
    "\n"
   ]
  },
  {
   "cell_type": "code",
   "execution_count": 1,
   "id": "announced-hawaii",
   "metadata": {},
   "outputs": [],
   "source": [
    "#Import required libraries\n",
    "\n",
    "import pandas as pd\n",
    "import numpy as np"
   ]
  },
  {
   "cell_type": "code",
   "execution_count": 2,
   "id": "christian-paste",
   "metadata": {},
   "outputs": [
    {
     "name": "stdout",
     "output_type": "stream",
     "text": [
      "32560\n"
     ]
    }
   ],
   "source": [
    "#Load the data, add headers, write back the data\n",
    "\n",
    "df = pd.read_csv(\"./Downloads/adult_data.csv\")\n",
    "headers = [\"age\", \"workclass\", \"fnlwgt\", \"education\", \"education_num\", \"marital_status\", \"occupation\", \"relationship\",\n",
    "           \"race\", \"sex\", \"capital_gain\", \"capital_loss\", \"hours_per_week\", \"native_country\", \"salary_range\"]\n",
    "df.to_csv(\"./Downloads/adult_data.csv\", header = headers, index = False)\n",
    "df = pd.read_csv(\"./Downloads/adult_data.csv\")\n",
    "\n",
    "print(len(df))"
   ]
  },
  {
   "cell_type": "code",
   "execution_count": 3,
   "id": "inside-sampling",
   "metadata": {},
   "outputs": [
    {
     "name": "stdout",
     "output_type": "stream",
     "text": [
      "30161\n"
     ]
    }
   ],
   "source": [
    "#Perform preprocessing. Alter the marital_status column and replace all null values with np.nan\n",
    "\n",
    "married = [' Married-civ-spouse',' Married-spouse-absent', ' Married-AF-spouse', ' Separated', ' Widowed']\n",
    "unmarried = [' Divorced',' Never-married' ]\n",
    "\n",
    "df['marital_status'] = df['marital_status'].replace(married, 'married')\n",
    "df['marital_status'] = df['marital_status'].replace(unmarried, 'unmarried')\n",
    "df = df.replace(' ?', np.nan).dropna(axis=0, how='any', subset = headers)\n",
    "df.to_csv('~/adult_data_preprocessed.csv', index = False)\n",
    "\n",
    "print(len(df))"
   ]
  },
  {
   "cell_type": "code",
   "execution_count": 4,
   "id": "forbidden-template",
   "metadata": {},
   "outputs": [],
   "source": [
    "#Split data into partitions. This will be used in Pruning optimization. The number of partitions is assumed to be 10\n",
    "\n",
    "import csv\n",
    "import os\n",
    "def split_csv(source_filepath, dest_folder, split_file_prefix,\n",
    "                records_per_file):\n",
    "    \"\"\"\n",
    "    Split a source csv into multiple csvs of equal numbers of records,\n",
    "    except the last file.\n",
    "\n",
    "    Includes the initial header row in each split file.\n",
    "\n",
    "    Split files follow a zero-index sequential naming convention like so:\n",
    "\n",
    "        `{split_file_prefix}_0.csv`\n",
    "    \"\"\"\n",
    "    if records_per_file <= 0:\n",
    "        raise Exception('records_per_file must be > 0')\n",
    "\n",
    "    with open(source_filepath, 'r') as source:\n",
    "        reader = csv.reader(source)\n",
    "        headers = next(reader)\n",
    "\n",
    "        file_idx = 0\n",
    "        records_exist = True\n",
    "\n",
    "        while records_exist:\n",
    "\n",
    "            i = 0\n",
    "            target_filename = f'{split_file_prefix}_{file_idx}.csv'\n",
    "            target_filepath = os.path.join(dest_folder, target_filename)\n",
    "\n",
    "            with open(target_filepath, 'w') as target:\n",
    "                writer = csv.writer(target)\n",
    "\n",
    "                while i < records_per_file:\n",
    "                    if i == 0:\n",
    "                        writer.writerow(headers)\n",
    "\n",
    "                    try:\n",
    "                        writer.writerow(next(reader))\n",
    "                        i += 1\n",
    "                    except StopIteration:\n",
    "                        records_exist = False\n",
    "                        break\n",
    "\n",
    "            if i == 0:\n",
    "                # we only wrote the header, so delete that file\n",
    "                os.remove(target_filepath)\n",
    "\n",
    "            file_idx += 1\n",
    "\n",
    "\n",
    "\n"
   ]
  },
  {
   "cell_type": "code",
   "execution_count": 5,
   "id": "personalized-functionality",
   "metadata": {},
   "outputs": [],
   "source": [
    "partitions = 10\n",
    "split_csv(\"./adult_data_preprocessed.csv\", \"./splitFiles\", \"adult_data\", len(df)/partitions )"
   ]
  },
  {
   "cell_type": "code",
   "execution_count": null,
   "id": "periodic-corrections",
   "metadata": {},
   "outputs": [],
   "source": []
  }
 ],
 "metadata": {
  "kernelspec": {
   "display_name": "Python 3",
   "language": "python",
   "name": "python3"
  },
  "language_info": {
   "codemirror_mode": {
    "name": "ipython",
    "version": 3
   },
   "file_extension": ".py",
   "mimetype": "text/x-python",
   "name": "python",
   "nbconvert_exporter": "python",
   "pygments_lexer": "ipython3",
   "version": "3.8.5"
  }
 },
 "nbformat": 4,
 "nbformat_minor": 5
}
