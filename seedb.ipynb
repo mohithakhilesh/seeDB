{
 "cells": [
  {
   "cell_type": "code",
   "execution_count": 60,
   "id": "veterinary-toyota",
   "metadata": {},
   "outputs": [],
   "source": [
    "import psycopg2\n",
    "from scipy import stats as kl"
   ]
  },
  {
   "cell_type": "code",
   "execution_count": 61,
   "id": "promising-syndrome",
   "metadata": {},
   "outputs": [],
   "source": [
    "dimension_attributes = ['workclass','education','education_num','occupation','relationship','race','sex','native_country','salary_range']\n",
    "measure_attributes = ['age','fnlwgt','capital_gain','capital_loss','hours_per_week']\n",
    "aggregate_functions = ['sum', 'avg', 'max', 'min', 'count']"
   ]
  },
  {
   "cell_type": "code",
   "execution_count": 62,
   "id": "artificial-simple",
   "metadata": {},
   "outputs": [],
   "source": [
    "conn = psycopg2.connect()"
   ]
  },
  {
   "cell_type": "code",
   "execution_count": 63,
   "id": "funny-collector",
   "metadata": {},
   "outputs": [],
   "source": [
    "def generate_views():\n",
    "    \n",
    "    aggregate_views = []\n",
    "    for a in dimension_attributes:\n",
    "        for m in measure_attributes:\n",
    "            for f in aggregate_functions:\n",
    "                aggregate_views.append((a,m,f))\n",
    "    return aggregate_views\n",
    "\n",
    "def normalize(qResult1, qResult2):\n",
    "    \n",
    "    dict1 = {}\n",
    "    dict2 = {}\n",
    "    \n",
    "    for i in qResult1:\n",
    "        \n",
    "        dict1[i[0]] = float(i[1])\n",
    "        if i[0] not in qResult2:\n",
    "            dict2[i[0]] = 1e-9\n",
    "        else:\n",
    "            dict2[i[0]] = float(qResult2[i[0]])\n",
    "        \n",
    "    for i in qResult2:\n",
    "        \n",
    "        if i[0] not in dict1:\n",
    "            dict1[i[0]] = 1e-9\n",
    "        \n",
    "        if i[0] not in dict2:\n",
    "            dict2[i[0]] = float(i[1])\n",
    "\n",
    "\n",
    "        \n",
    "    if sum(dict1.values()) != 0:\n",
    "        factor=1.0/sum(dict1.values())\n",
    "        for k in dict1:\n",
    "            dict1[k] = dict1[k]*factor\n",
    "            \n",
    "    if sum(dict2.values()) != 0:   \n",
    "        factor=1.0/sum(dict2.values())\n",
    "        for k in dict2:\n",
    "            dict2[k] = dict2[k]*factor\n",
    "    \n",
    "    return dict1, dict2\n",
    "    \n",
    "def calc_utility(res1, res2):\n",
    "    \n",
    "    temp1 = []\n",
    "    temp2 = []\n",
    "    for i in res1:\n",
    "        temp1.append(res1[i])\n",
    "    \n",
    "    for i in res2:\n",
    "        temp2.append(res2[i])\n",
    "        \n",
    "    return kl.entropy(temp1, temp2)\n",
    "    \n",
    "\n",
    "def execute(target_view, reference_view):\n",
    "    \n",
    "    cur1 = conn.cursor()\n",
    "    cur2 = conn.cursor()\n",
    "    \n",
    "    cur1.execute(target_view)\n",
    "    cur2.execute(reference_view)\n",
    "    \n",
    "    res1, res2 = normalize(cur1.fetchall(), cur2.fetchall())\n",
    "    \n",
    "    return calc_utility(res1, res2)\n",
    "    \n",
    "    \n",
    "def execute_queries(aggregate_views):\n",
    "    \n",
    "    results = []\n",
    "    for a,m,f in aggregate_views:\n",
    "        target_view = 'select ' + a +', ' + f + '(' + m + ')' + ' from married_adults3 group by ' + a + ';'\n",
    "        reference_view = 'select ' + a +',' + f + '(' + m + ')' + 'from unmarried_adults3 group by ' + a + ';'\n",
    "        utility_measure = execute(target_view, reference_view)\n",
    "        results.append([(a,m,f), utility_measure])\n",
    "    \n",
    "    return results\n",
    "\n",
    "def get_topK(results, k):\n",
    "    \n",
    "    results.sort(key = lambda x: x[1], reverse = True)\n",
    "    return results[0:k]"
   ]
  },
  {
   "cell_type": "code",
   "execution_count": 65,
   "id": "integral-bobby",
   "metadata": {},
   "outputs": [
    {
     "name": "stdout",
     "output_type": "stream",
     "text": [
      "[[('workclass', 'fnlwgt', 'sum'), 0.8760182291179579], [('workclass', 'age', 'count'), 0.8501510619402023], [('workclass', 'fnlwgt', 'count'), 0.8501510619402023], [('workclass', 'age', 'sum'), 0.8008858374717213], [('workclass', 'capital_gain', 'min'), nan]]\n"
     ]
    }
   ],
   "source": [
    "k = 5\n",
    "aggregate_views = generate_views()\n",
    "results = execute_queries(aggregate_views)\n",
    "topK_results = get_topK(results, k)\n",
    "print(topK_results)"
   ]
  },
  {
   "cell_type": "code",
   "execution_count": null,
   "id": "banner-forwarding",
   "metadata": {},
   "outputs": [],
   "source": []
  }
 ],
 "metadata": {
  "kernelspec": {
   "display_name": "Python 3",
   "language": "python",
   "name": "python3"
  },
  "language_info": {
   "codemirror_mode": {
    "name": "ipython",
    "version": 3
   },
   "file_extension": ".py",
   "mimetype": "text/x-python",
   "name": "python",
   "nbconvert_exporter": "python",
   "pygments_lexer": "ipython3",
   "version": "3.8.5"
  }
 },
 "nbformat": 4,
 "nbformat_minor": 5
}
